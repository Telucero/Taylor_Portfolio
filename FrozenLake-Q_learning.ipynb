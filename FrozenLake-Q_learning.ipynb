{
 "cells": [
  {
   "cell_type": "code",
   "execution_count": 7,
   "metadata": {
    "id": "ANx7itOIoh2C"
   },
   "outputs": [],
   "source": [
    "import numpy as np\n",
    "import random \n",
    "import time"
   ]
  },
  {
   "cell_type": "code",
   "execution_count": 166,
   "metadata": {
    "id": "ROhARIXbvmP5"
   },
   "outputs": [],
   "source": [
    "# Q(st, sa) + alpha [rt+1 + epsilon max Q(st+1, a) - Q(st-at)]\n",
    "# step t, agent st, agent moves: st+1, action: at"
   ]
  },
  {
   "cell_type": "code",
   "execution_count": 56,
   "metadata": {
    "colab": {
     "base_uri": "https://localhost:8080/"
    },
    "id": "kTpVxG2jzBZk",
    "outputId": "dc487531-5fee-4622-cbb0-e23122c9cc72"
   },
   "outputs": [
    {
     "name": "stdout",
     "output_type": "stream",
     "text": [
      "[[0. 0.]\n",
      " [0. 0.]\n",
      " [0. 0.]\n",
      " [0. 0.]\n",
      " [0. 0.]\n",
      " [0. 0.]]\n"
     ]
    }
   ],
   "source": [
    "# Q-table s x a = 6 x 2\n",
    "state_size = 6\n",
    "action_size = 2\n",
    "move_cost = 0.01\n",
    "\n",
    "# Q-table aand values initialized to zero\n",
    "q_table = np.zeros((state_size,action_size))\n",
    "print(q_table)\n"
   ]
  },
  {
   "cell_type": "code",
   "execution_count": 71,
   "metadata": {
    "colab": {
     "base_uri": "https://localhost:8080/"
    },
    "id": "SjnA9E8uhe_t",
    "outputId": "7678b1d2-bec1-4d12-b674-a20289035694"
   },
   "outputs": [
    {
     "name": "stdout",
     "output_type": "stream",
     "text": [
      "[[ 0.          0.        ]\n",
      " [-1.29970234  1.06125177]\n",
      " [ 1.01614609  1.10318187]\n",
      " [ 1.05645784  1.15231885]\n",
      " [ 1.11110697  1.20113011]\n",
      " [ 0.          0.        ]]\n"
     ]
    }
   ],
   "source": [
    "alpha = 0.1 #learning rate\n",
    "epsilon = 1 #discount factor\n",
    "gamma = 0.8 #discount rate\n",
    "\n",
    "reward = [-1, 0, 0, 0, 0, +1]\n",
    "\n",
    "#external loop, the following is just an episode, make a loop for more episodes here\n",
    "max_episodes = 100\n",
    "j=0\n",
    "\n",
    "while j < max_episodes:\n",
    "  state = 2\n",
    "  maxIteration=100\n",
    "  i = 0\n",
    "  j = j+1\n",
    "  while i < maxIteration:\n",
    "    if(state==0 or state==5):\n",
    "      break\n",
    "    #randomly choose an action - left:0 - right:1 -\n",
    "    rnd = random.randint(0, 1)\n",
    "    if rnd == 0:\n",
    "      new_state = state -1\n",
    "    else:\n",
    "      new_state = state +1\n",
    "    i = i+1\n",
    "\n",
    "  # update Qtable\n",
    "    q_table[state, rnd] = q_table[state, rnd] + alpha * ((reward[new_state]-move_cost + gamma * max(q_table[new_state] - q_table[state, rnd])))\n",
    "    state=new_state\n",
    "print(q_table)"
   ]
  },
  {
   "cell_type": "code",
   "execution_count": 70,
   "metadata": {
    "colab": {
     "base_uri": "https://localhost:8080/"
    },
    "id": "DsZIl5q4VG4J",
    "outputId": "59c61592-4211-4869-839c-e05d469c569d"
   },
   "outputs": [
    {
     "name": "stdout",
     "output_type": "stream",
     "text": [
      "[[ 0.          0.        ]\n",
      " [ 0.74999047 -1.37499739]\n",
      " [ 0.87499595  0.62498259]\n",
      " [ 0.99999774  0.74999114]\n",
      " [ 1.12499929  0.87493567]\n",
      " [ 0.          0.        ]]\n"
     ]
    }
   ],
   "source": [
    "#greedy algorithm \n",
    "\n",
    "alpha =0.3 # the learning rate, 0 agent learns nothing, 1 learns recent information\n",
    "gamma = 0.8 # the discount factor, determines of future rewards\n",
    "\n",
    "maxEpisode = 100\n",
    "cost = 0.1\n",
    "reward=[-1,0,0,0,0,+1]\n",
    "maxIteration = 100\n",
    "maxEpisode = 100\n",
    "\n",
    "Q_table = np.zeros((6,2))\n",
    "\n",
    "def greedy(array, state): \n",
    "  if array[state, 0] > array[state,1] :\n",
    "    return 0\n",
    "  else:\n",
    "    return 1\n",
    "  \n",
    "j = 0\n",
    "while j < maxEpisode:\n",
    "  epsilon = 1\n",
    "  state = 2\n",
    "  j = j+1\n",
    "  i=0\n",
    "\n",
    "  while i < maxIteration: # 0 < 100    \n",
    "    r = np.random.uniform(0,1)    \n",
    "    i= i+1\n",
    "    \n",
    "    if (state == 0 or state == 5): \n",
    "      break\n",
    "      \n",
    "    if r < epsilon: #Exploration\n",
    "      action = np.random.randint(0,2)\n",
    "          \n",
    "    elif r>=epsilon : # Exploitation\n",
    "      action=greedy(Q_table, state)\n",
    "    \n",
    "    if action == 0:\n",
    "      #print('right')\n",
    "      new_state = state + 1\n",
    "    elif action == 1: \n",
    "      #print('left')\n",
    "      new_state = state - 1 \n",
    "    epsilon -=0.01\n",
    "\n",
    "    Q_table[state,  action] = Q_table[state, action] + alpha * ((reward[new_state]-cost + gamma * max(Q_table[new_state] - Q_table[state, action])))\n",
    "    state=new_state\n",
    "\n",
    "print(Q_table)"
   ]
  },
  {
   "cell_type": "code",
   "execution_count": 76,
   "metadata": {
    "colab": {
     "base_uri": "https://localhost:8080/"
    },
    "id": "s0GHItKeSUxN",
    "outputId": "621b6e60-c8e7-4191-cd39-82325a846fb3"
   },
   "outputs": [
    {
     "name": "stdout",
     "output_type": "stream",
     "text": [
      "[[0. 0. 0. 0.]\n",
      " [0. 0. 0. 0.]\n",
      " [0. 0. 0. 0.]\n",
      " [0. 0. 0. 0.]\n",
      " [0. 0. 0. 0.]\n",
      " [0. 0. 0. 0.]\n",
      " [0. 0. 0. 0.]\n",
      " [0. 0. 0. 0.]\n",
      " [0. 0. 0. 0.]\n",
      " [0. 0. 0. 0.]\n",
      " [0. 0. 0. 0.]\n",
      " [0. 0. 0. 0.]]\n"
     ]
    }
   ],
   "source": [
    "# 2D grid\n",
    "# Q-table s x a = 3x4 x 4\n",
    "n_rows=3\n",
    "n_cols = 4\n",
    "action_size = 4\n",
    "move_cost = 0.04\n",
    "\n",
    "# Q-table aand values initialized to zero\n",
    "q2_table = np.zeros((12,action_size))\n",
    "print(q2_table)"
   ]
  },
  {
   "cell_type": "code",
   "execution_count": 77,
   "metadata": {
    "colab": {
     "base_uri": "https://localhost:8080/"
    },
    "id": "9QvuzggiLy05",
    "outputId": "cb58936a-d9e8-40eb-e866-7e66681a209d"
   },
   "outputs": [
    {
     "name": "stdout",
     "output_type": "stream",
     "text": [
      "[[ 0.          1.25714215  0.          1.14285432]\n",
      " [ 1.19999754  1.31428538  0.          0.        ]\n",
      " [ 1.25713947  1.3714285   0.          1.25687057]\n",
      " [ 0.          0.          0.          0.        ]\n",
      " [ 0.          0.          1.19999883  1.08571267]\n",
      " [ 0.          0.          0.          0.        ]\n",
      " [ 0.         -1.48570571  1.31427567  1.19968596]\n",
      " [ 0.          0.          0.          0.        ]\n",
      " [ 0.          1.14281675  1.14285586  0.        ]\n",
      " [ 1.08571283  1.1999739   0.          0.        ]\n",
      " [ 1.1428189   1.14274186  1.2571242   0.        ]\n",
      " [ 1.19992246  0.         -1.48571329  0.        ]]\n"
     ]
    }
   ],
   "source": [
    "alpha = 0.5 #learning rate\n",
    "epsilon = 1\n",
    "gamma = 0.7 #discount rate\n",
    "move_cost = 0.04\n",
    "\n",
    "reward = [(0, 0, 0, +1),\n",
    "          (0, 0 , 0, -1),\n",
    "          (0, 0, 0, 0)]\n",
    "\n",
    "n_rows = len(reward)\n",
    "n_cols = len(reward[0])\n",
    "\n",
    "#start position\n",
    "start_pos = (2,0)\n",
    "win_pos = (0,3)\n",
    "lose_pos = (1,3)\n",
    "\n",
    "#randomly choose an action - left:0 - right:1 - up: 2 - down:3 -\n",
    "\n",
    "maxEpisodes=100\n",
    "maxIteration=100\n",
    "f=0\n",
    "while f < maxEpisodes:\n",
    "  #restart from start position\n",
    "  pos=start_pos\n",
    "  e=0\n",
    "  f=f+1\n",
    "  while e < maxIteration:\n",
    "    if(pos==win_pos or pos==lose_pos):\n",
    "      break \n",
    "    move = random.randint(0, 3)\n",
    "    #check if it can move in the direction or not\n",
    "    if (pos[1]>0 and move==0): #left\n",
    "      new_pos = (pos[0], pos[1]-1)\n",
    "    elif (pos[1]<3 and move==1): #right\n",
    "      new_pos = (pos[0], pos[1]+1)\n",
    "    elif (pos[0]>0 and move==2): #up\n",
    "      new_pos = (pos[0]-1, pos[1])\n",
    "    elif (pos[0]<2 and move==3): #down\n",
    "      new_pos = (pos[0]+1, pos[1])\n",
    "    else: #estremo\n",
    "      continue \n",
    "    if new_pos==(1,1): # if it goes into the black box, dont update pos but choose another move\n",
    "      continue\n",
    "    e = e+1\n",
    "\n",
    "    # update Qtable\n",
    "    state = pos[0]*n_cols+pos[1]\n",
    "    new_state = new_pos[0]*n_cols+new_pos[1]\n",
    "    q2_table[state, move] = q2_table[state, move] + alpha * ((reward[new_pos[0]][new_pos[1]]-move_cost + gamma * max(q2_table[new_state] - q2_table[state, move])))\n",
    "    pos=new_pos\n",
    "\n",
    "print(q2_table)"
   ]
  },
  {
   "cell_type": "markdown",
   "metadata": {
    "id": "pChy5VeTUUQ0"
   },
   "source": []
  }
 ],
 "metadata": {
  "colab": {
   "collapsed_sections": [],
   "name": "AI assignment 1 Ilaria Enache.ipynb",
   "provenance": []
  },
  "kernelspec": {
   "display_name": "Python 3",
   "language": "python",
   "name": "python3"
  },
  "language_info": {
   "codemirror_mode": {
    "name": "ipython",
    "version": 3
   },
   "file_extension": ".py",
   "mimetype": "text/x-python",
   "name": "python",
   "nbconvert_exporter": "python",
   "pygments_lexer": "ipython3",
   "version": "3.8.5"
  }
 },
 "nbformat": 4,
 "nbformat_minor": 4
}
